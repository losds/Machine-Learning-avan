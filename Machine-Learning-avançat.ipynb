{
 "cells": [
  {
   "cell_type": "markdown",
   "id": "organic-statistics",
   "metadata": {},
   "source": [
    "# Exercici 1\n",
    "\n",
    "Agafa el conjunt de dades que vulguis i realitza un pipeline i un gridsearch aplicant l'algorisme de Random Forest."
   ]
  },
  {
   "cell_type": "code",
   "execution_count": 98,
   "id": "instant-silver",
   "metadata": {},
   "outputs": [],
   "source": [
    "import pandas as pd\n",
    "from sklearn import datasets\n",
    "from sklearn.model_selection import train_test_split\n",
    "from sklearn.svm import SVC\n",
    "from sklearn.preprocessing import StandardScaler\n",
    "from sklearn.pipeline import Pipeline\n",
    "from sklearn.ensemble import RandomForestClassifier\n",
    "from sklearn.model_selection import GridSearchCV\n",
    "from sklearn.metrics import precision_score\n",
    "from nltk.tokenize import sent_tokenize\n",
    "import nltk\n",
    "from nltk.probability import FreqDist\n",
    "from nltk.tokenize import word_tokenize"
   ]
  },
  {
   "cell_type": "code",
   "execution_count": 24,
   "id": "incoming-anniversary",
   "metadata": {},
   "outputs": [],
   "source": [
    "#Cargo dataset de Iris\n",
    "iris = datasets.load_iris()"
   ]
  },
  {
   "cell_type": "code",
   "execution_count": 25,
   "id": "filled-shoulder",
   "metadata": {},
   "outputs": [
    {
     "data": {
      "text/html": [
       "<div>\n",
       "<style scoped>\n",
       "    .dataframe tbody tr th:only-of-type {\n",
       "        vertical-align: middle;\n",
       "    }\n",
       "\n",
       "    .dataframe tbody tr th {\n",
       "        vertical-align: top;\n",
       "    }\n",
       "\n",
       "    .dataframe thead th {\n",
       "        text-align: right;\n",
       "    }\n",
       "</style>\n",
       "<table border=\"1\" class=\"dataframe\">\n",
       "  <thead>\n",
       "    <tr style=\"text-align: right;\">\n",
       "      <th></th>\n",
       "      <th>sepal length</th>\n",
       "      <th>sepal width</th>\n",
       "      <th>petal length</th>\n",
       "      <th>petal width</th>\n",
       "      <th>species</th>\n",
       "    </tr>\n",
       "  </thead>\n",
       "  <tbody>\n",
       "    <tr>\n",
       "      <th>0</th>\n",
       "      <td>5.1</td>\n",
       "      <td>3.5</td>\n",
       "      <td>1.4</td>\n",
       "      <td>0.2</td>\n",
       "      <td>0</td>\n",
       "    </tr>\n",
       "    <tr>\n",
       "      <th>1</th>\n",
       "      <td>4.9</td>\n",
       "      <td>3.0</td>\n",
       "      <td>1.4</td>\n",
       "      <td>0.2</td>\n",
       "      <td>0</td>\n",
       "    </tr>\n",
       "    <tr>\n",
       "      <th>2</th>\n",
       "      <td>4.7</td>\n",
       "      <td>3.2</td>\n",
       "      <td>1.3</td>\n",
       "      <td>0.2</td>\n",
       "      <td>0</td>\n",
       "    </tr>\n",
       "    <tr>\n",
       "      <th>3</th>\n",
       "      <td>4.6</td>\n",
       "      <td>3.1</td>\n",
       "      <td>1.5</td>\n",
       "      <td>0.2</td>\n",
       "      <td>0</td>\n",
       "    </tr>\n",
       "    <tr>\n",
       "      <th>4</th>\n",
       "      <td>5.0</td>\n",
       "      <td>3.6</td>\n",
       "      <td>1.4</td>\n",
       "      <td>0.2</td>\n",
       "      <td>0</td>\n",
       "    </tr>\n",
       "  </tbody>\n",
       "</table>\n",
       "</div>"
      ],
      "text/plain": [
       "   sepal length  sepal width  petal length  petal width  species\n",
       "0           5.1          3.5           1.4          0.2        0\n",
       "1           4.9          3.0           1.4          0.2        0\n",
       "2           4.7          3.2           1.3          0.2        0\n",
       "3           4.6          3.1           1.5          0.2        0\n",
       "4           5.0          3.6           1.4          0.2        0"
      ]
     },
     "execution_count": 25,
     "metadata": {},
     "output_type": "execute_result"
    }
   ],
   "source": [
    "#Creo dataFrame \n",
    "data=pd.DataFrame({\n",
    "    'sepal length':iris.data[:,0],\n",
    "    'sepal width':iris.data[:,1],\n",
    "    'petal length':iris.data[:,2],\n",
    "    'petal width':iris.data[:,3],\n",
    "    'species':iris.target\n",
    "})\n",
    "data.head()"
   ]
  },
  {
   "cell_type": "code",
   "execution_count": 26,
   "id": "respected-triangle",
   "metadata": {},
   "outputs": [],
   "source": [
    "#Infromacion del dataset"
   ]
  },
  {
   "cell_type": "code",
   "execution_count": 27,
   "id": "black-validity",
   "metadata": {},
   "outputs": [
    {
     "data": {
      "text/html": [
       "<div>\n",
       "<style scoped>\n",
       "    .dataframe tbody tr th:only-of-type {\n",
       "        vertical-align: middle;\n",
       "    }\n",
       "\n",
       "    .dataframe tbody tr th {\n",
       "        vertical-align: top;\n",
       "    }\n",
       "\n",
       "    .dataframe thead th {\n",
       "        text-align: right;\n",
       "    }\n",
       "</style>\n",
       "<table border=\"1\" class=\"dataframe\">\n",
       "  <thead>\n",
       "    <tr style=\"text-align: right;\">\n",
       "      <th></th>\n",
       "      <th>sepal length</th>\n",
       "      <th>sepal width</th>\n",
       "      <th>petal length</th>\n",
       "      <th>petal width</th>\n",
       "      <th>species</th>\n",
       "    </tr>\n",
       "  </thead>\n",
       "  <tbody>\n",
       "    <tr>\n",
       "      <th>count</th>\n",
       "      <td>150.000000</td>\n",
       "      <td>150.000000</td>\n",
       "      <td>150.000000</td>\n",
       "      <td>150.000000</td>\n",
       "      <td>150.000000</td>\n",
       "    </tr>\n",
       "    <tr>\n",
       "      <th>mean</th>\n",
       "      <td>5.843333</td>\n",
       "      <td>3.057333</td>\n",
       "      <td>3.758000</td>\n",
       "      <td>1.199333</td>\n",
       "      <td>1.000000</td>\n",
       "    </tr>\n",
       "    <tr>\n",
       "      <th>std</th>\n",
       "      <td>0.828066</td>\n",
       "      <td>0.435866</td>\n",
       "      <td>1.765298</td>\n",
       "      <td>0.762238</td>\n",
       "      <td>0.819232</td>\n",
       "    </tr>\n",
       "    <tr>\n",
       "      <th>min</th>\n",
       "      <td>4.300000</td>\n",
       "      <td>2.000000</td>\n",
       "      <td>1.000000</td>\n",
       "      <td>0.100000</td>\n",
       "      <td>0.000000</td>\n",
       "    </tr>\n",
       "    <tr>\n",
       "      <th>25%</th>\n",
       "      <td>5.100000</td>\n",
       "      <td>2.800000</td>\n",
       "      <td>1.600000</td>\n",
       "      <td>0.300000</td>\n",
       "      <td>0.000000</td>\n",
       "    </tr>\n",
       "    <tr>\n",
       "      <th>50%</th>\n",
       "      <td>5.800000</td>\n",
       "      <td>3.000000</td>\n",
       "      <td>4.350000</td>\n",
       "      <td>1.300000</td>\n",
       "      <td>1.000000</td>\n",
       "    </tr>\n",
       "    <tr>\n",
       "      <th>75%</th>\n",
       "      <td>6.400000</td>\n",
       "      <td>3.300000</td>\n",
       "      <td>5.100000</td>\n",
       "      <td>1.800000</td>\n",
       "      <td>2.000000</td>\n",
       "    </tr>\n",
       "    <tr>\n",
       "      <th>max</th>\n",
       "      <td>7.900000</td>\n",
       "      <td>4.400000</td>\n",
       "      <td>6.900000</td>\n",
       "      <td>2.500000</td>\n",
       "      <td>2.000000</td>\n",
       "    </tr>\n",
       "  </tbody>\n",
       "</table>\n",
       "</div>"
      ],
      "text/plain": [
       "       sepal length  sepal width  petal length  petal width     species\n",
       "count    150.000000   150.000000    150.000000   150.000000  150.000000\n",
       "mean       5.843333     3.057333      3.758000     1.199333    1.000000\n",
       "std        0.828066     0.435866      1.765298     0.762238    0.819232\n",
       "min        4.300000     2.000000      1.000000     0.100000    0.000000\n",
       "25%        5.100000     2.800000      1.600000     0.300000    0.000000\n",
       "50%        5.800000     3.000000      4.350000     1.300000    1.000000\n",
       "75%        6.400000     3.300000      5.100000     1.800000    2.000000\n",
       "max        7.900000     4.400000      6.900000     2.500000    2.000000"
      ]
     },
     "execution_count": 27,
     "metadata": {},
     "output_type": "execute_result"
    }
   ],
   "source": [
    "data.describe()"
   ]
  },
  {
   "cell_type": "code",
   "execution_count": 28,
   "id": "disciplinary-occurrence",
   "metadata": {},
   "outputs": [
    {
     "name": "stdout",
     "output_type": "stream",
     "text": [
      "<class 'pandas.core.frame.DataFrame'>\n",
      "RangeIndex: 150 entries, 0 to 149\n",
      "Data columns (total 5 columns):\n",
      " #   Column        Non-Null Count  Dtype  \n",
      "---  ------        --------------  -----  \n",
      " 0   sepal length  150 non-null    float64\n",
      " 1   sepal width   150 non-null    float64\n",
      " 2   petal length  150 non-null    float64\n",
      " 3   petal width   150 non-null    float64\n",
      " 4   species       150 non-null    int32  \n",
      "dtypes: float64(4), int32(1)\n",
      "memory usage: 5.4 KB\n"
     ]
    }
   ],
   "source": [
    "data.info()"
   ]
  },
  {
   "cell_type": "code",
   "execution_count": 29,
   "id": "representative-following",
   "metadata": {},
   "outputs": [
    {
     "data": {
      "text/plain": [
       "sepal length    150\n",
       "sepal width     150\n",
       "petal length    150\n",
       "petal width     150\n",
       "species         150\n",
       "dtype: int64"
      ]
     },
     "execution_count": 29,
     "metadata": {},
     "output_type": "execute_result"
    }
   ],
   "source": [
    "data.isnull().count()"
   ]
  },
  {
   "cell_type": "code",
   "execution_count": 30,
   "id": "brilliant-spoke",
   "metadata": {},
   "outputs": [],
   "source": [
    "#eliminos los valores null\n",
    "data=data.dropna()"
   ]
  },
  {
   "cell_type": "code",
   "execution_count": 31,
   "id": "internal-arrow",
   "metadata": {},
   "outputs": [],
   "source": [
    "#Separo las columnas en variables independientes y dependiente\n",
    "X=data[['sepal length', 'sepal width', 'petal length', 'petal width']]  # Features\n",
    "y=data['species']  # Labels"
   ]
  },
  {
   "cell_type": "code",
   "execution_count": 32,
   "id": "regulated-label",
   "metadata": {},
   "outputs": [],
   "source": [
    "#Separo en train y test sets\n",
    "X_train, X_test, y_train, y_test = train_test_split(X, y, test_size=0.3, random_state=7) # 70% training and 30% test"
   ]
  },
  {
   "cell_type": "code",
   "execution_count": 33,
   "id": "figured-cleanup",
   "metadata": {},
   "outputs": [],
   "source": [
    "#Pipeline\n",
    "steps=[('StdSc', StandardScaler()),('RandomForest', RandomForestClassifier(random_state = 7))]\n",
    "pipeline = Pipeline(steps)\n"
   ]
  },
  {
   "cell_type": "code",
   "execution_count": 34,
   "id": "careful-welsh",
   "metadata": {},
   "outputs": [
    {
     "data": {
      "text/plain": [
       "0.87"
      ]
     },
     "execution_count": 34,
     "metadata": {},
     "output_type": "execute_result"
    }
   ],
   "source": [
    "model1 = pipeline .fit(X_train, y_train)\n",
    "model1.score(X_test,y_test).round(2)\n"
   ]
  },
  {
   "cell_type": "code",
   "execution_count": 35,
   "id": "dying-whale",
   "metadata": {},
   "outputs": [
    {
     "data": {
      "text/plain": [
       "{'memory': None,\n",
       " 'steps': [('StdSc', StandardScaler()),\n",
       "  ('RandomForest', RandomForestClassifier(random_state=7))],\n",
       " 'verbose': False,\n",
       " 'StdSc': StandardScaler(),\n",
       " 'RandomForest': RandomForestClassifier(random_state=7),\n",
       " 'StdSc__copy': True,\n",
       " 'StdSc__with_mean': True,\n",
       " 'StdSc__with_std': True,\n",
       " 'RandomForest__bootstrap': True,\n",
       " 'RandomForest__ccp_alpha': 0.0,\n",
       " 'RandomForest__class_weight': None,\n",
       " 'RandomForest__criterion': 'gini',\n",
       " 'RandomForest__max_depth': None,\n",
       " 'RandomForest__max_features': 'auto',\n",
       " 'RandomForest__max_leaf_nodes': None,\n",
       " 'RandomForest__max_samples': None,\n",
       " 'RandomForest__min_impurity_decrease': 0.0,\n",
       " 'RandomForest__min_impurity_split': None,\n",
       " 'RandomForest__min_samples_leaf': 1,\n",
       " 'RandomForest__min_samples_split': 2,\n",
       " 'RandomForest__min_weight_fraction_leaf': 0.0,\n",
       " 'RandomForest__n_estimators': 100,\n",
       " 'RandomForest__n_jobs': None,\n",
       " 'RandomForest__oob_score': False,\n",
       " 'RandomForest__random_state': 7,\n",
       " 'RandomForest__verbose': 0,\n",
       " 'RandomForest__warm_start': False}"
      ]
     },
     "execution_count": 35,
     "metadata": {},
     "output_type": "execute_result"
    }
   ],
   "source": [
    "pipeline.get_params()"
   ]
  },
  {
   "cell_type": "code",
   "execution_count": 36,
   "id": "stable-recycling",
   "metadata": {},
   "outputs": [],
   "source": [
    "#Parametros del Grid\n",
    "parameters = {'RandomForest__max_depth': [2,5],\n",
    "                      'RandomForest__criterion'     : ['gini', 'entropy'],\n",
    "                      'RandomForest__max_features'  : ['auto','sqrt', 'log2'],\n",
    "                      'RandomForest__n_estimators'  : [50,75]}\n",
    "grid = GridSearchCV(estimator = pipeline, param_grid = parameters, cv=5, n_jobs= -1)\n",
    "model2=grid.fit(X_train, y_train)\n"
   ]
  },
  {
   "cell_type": "code",
   "execution_count": 40,
   "id": "marked-blond",
   "metadata": {},
   "outputs": [
    {
     "data": {
      "text/plain": [
       "0.9111111111111111"
      ]
     },
     "execution_count": 40,
     "metadata": {},
     "output_type": "execute_result"
    }
   ],
   "source": [
    "model2.score(X_test,y_test)"
   ]
  },
  {
   "cell_type": "code",
   "execution_count": 43,
   "id": "moved-timing",
   "metadata": {},
   "outputs": [],
   "source": [
    "#Despues del tuning el modelo ha mejorado desde 0.87 hasta 0.91"
   ]
  },
  {
   "cell_type": "markdown",
   "id": "found-married",
   "metadata": {},
   "source": [
    "# Exercici 2\n",
    "\n",
    "Agafa un text en anglès que vulguis, i calcula'n la freqüència de les paraules"
   ]
  },
  {
   "cell_type": "code",
   "execution_count": 122,
   "id": "silent-fellowship",
   "metadata": {},
   "outputs": [],
   "source": [
    "text=\"\"\"President Joe Biden has encouraged businesses to fix staffing shortages with a simple solution: more money.\n",
    "\n",
    "“Pay them more,” Mr Biden said in a stage whisper for dramatic effect. “This is an employees’ bargaining chip now.”\n",
    "\n",
    "“They (businesses) are going to have to compete and pay people a decent wage,” the president continued.\n",
    "\n",
    "Mr Biden’s statements came during a press conference the president held at the White House on Thursday to address the agreement Democrat and Republican senators reached regarding his infrastructure plan.\n",
    "\n",
    "Mr Biden was asked his thoughts about businesses coming forward stating they were unable to convince their employees to come back after losing them during the coronavirus pandemic.\n",
    "\n",
    "Republicans have blamed the federal government’s unemployment benefits amid the pandemic as a reason why workers were not returning to their initial posts.\n",
    "\n",
    "When speaking about the employee shortage in May, Mr Biden said that the accelerating wage growth in America was a “feature” and not a “bug” of the economy as it moves away from the pandemic.\n",
    "\n",
    "“When it comes to the economy we’re building, rising wages aren’t a bug, they’re a feature,” he said at the time.\n",
    "\n",
    "Already several chain businesses like Chipotle have announced an increase to their minimum wage in an effort to entice workers back to the company.\n",
    "\n",
    "Mr Biden has credited his American Rescue Plan and the Covid-19 vaccination campaign as to why the US economy could be jumping back to normal. But concern has been raised that increased wages could lead to inflation.\n",
    "\n",
    "The Consumer Price Index, which is a gauge of broad inflation in the country, rose by 0.6 per cent in May. This despite estimations landing the gain at about 0.4 per cent.\n",
    "\n",
    "The reading was the fastest rate of price growth since 2009, but Mr Biden has assured the public that the numbers being seen now would not likely stay as the economy stabilises.\"\"\""
   ]
  },
  {
   "cell_type": "code",
   "execution_count": 123,
   "id": "capital-assembly",
   "metadata": {},
   "outputs": [],
   "source": [
    "tokenized_text=word_tokenize(text)"
   ]
  },
  {
   "cell_type": "code",
   "execution_count": 124,
   "id": "champion-feedback",
   "metadata": {},
   "outputs": [
    {
     "data": {
      "text/plain": [
       "['President',\n",
       " 'Joe',\n",
       " 'Biden',\n",
       " 'has',\n",
       " 'encouraged',\n",
       " 'businesses',\n",
       " 'to',\n",
       " 'fix',\n",
       " 'staffing',\n",
       " 'shortages',\n",
       " 'with',\n",
       " 'a',\n",
       " 'simple',\n",
       " 'solution',\n",
       " ':',\n",
       " 'more',\n",
       " 'money',\n",
       " '.',\n",
       " '“',\n",
       " 'Pay',\n",
       " 'them',\n",
       " 'more',\n",
       " ',',\n",
       " '”',\n",
       " 'Mr',\n",
       " 'Biden',\n",
       " 'said',\n",
       " 'in',\n",
       " 'a',\n",
       " 'stage',\n",
       " 'whisper',\n",
       " 'for',\n",
       " 'dramatic',\n",
       " 'effect',\n",
       " '.',\n",
       " '“',\n",
       " 'This',\n",
       " 'is',\n",
       " 'an',\n",
       " 'employees',\n",
       " '’',\n",
       " 'bargaining',\n",
       " 'chip',\n",
       " 'now.',\n",
       " '”',\n",
       " '“',\n",
       " 'They',\n",
       " '(',\n",
       " 'businesses',\n",
       " ')',\n",
       " 'are',\n",
       " 'going',\n",
       " 'to',\n",
       " 'have',\n",
       " 'to',\n",
       " 'compete',\n",
       " 'and',\n",
       " 'pay',\n",
       " 'people',\n",
       " 'a',\n",
       " 'decent',\n",
       " 'wage',\n",
       " ',',\n",
       " '”',\n",
       " 'the',\n",
       " 'president',\n",
       " 'continued',\n",
       " '.',\n",
       " 'Mr',\n",
       " 'Biden',\n",
       " '’',\n",
       " 's',\n",
       " 'statements',\n",
       " 'came',\n",
       " 'during',\n",
       " 'a',\n",
       " 'press',\n",
       " 'conference',\n",
       " 'the',\n",
       " 'president',\n",
       " 'held',\n",
       " 'at',\n",
       " 'the',\n",
       " 'White',\n",
       " 'House',\n",
       " 'on',\n",
       " 'Thursday',\n",
       " 'to',\n",
       " 'address',\n",
       " 'the',\n",
       " 'agreement',\n",
       " 'Democrat',\n",
       " 'and',\n",
       " 'Republican',\n",
       " 'senators',\n",
       " 'reached',\n",
       " 'regarding',\n",
       " 'his',\n",
       " 'infrastructure',\n",
       " 'plan',\n",
       " '.',\n",
       " 'Mr',\n",
       " 'Biden',\n",
       " 'was',\n",
       " 'asked',\n",
       " 'his',\n",
       " 'thoughts',\n",
       " 'about',\n",
       " 'businesses',\n",
       " 'coming',\n",
       " 'forward',\n",
       " 'stating',\n",
       " 'they',\n",
       " 'were',\n",
       " 'unable',\n",
       " 'to',\n",
       " 'convince',\n",
       " 'their',\n",
       " 'employees',\n",
       " 'to',\n",
       " 'come',\n",
       " 'back',\n",
       " 'after',\n",
       " 'losing',\n",
       " 'them',\n",
       " 'during',\n",
       " 'the',\n",
       " 'coronavirus',\n",
       " 'pandemic',\n",
       " '.',\n",
       " 'Republicans',\n",
       " 'have',\n",
       " 'blamed',\n",
       " 'the',\n",
       " 'federal',\n",
       " 'government',\n",
       " '’',\n",
       " 's',\n",
       " 'unemployment',\n",
       " 'benefits',\n",
       " 'amid',\n",
       " 'the',\n",
       " 'pandemic',\n",
       " 'as',\n",
       " 'a',\n",
       " 'reason',\n",
       " 'why',\n",
       " 'workers',\n",
       " 'were',\n",
       " 'not',\n",
       " 'returning',\n",
       " 'to',\n",
       " 'their',\n",
       " 'initial',\n",
       " 'posts',\n",
       " '.',\n",
       " 'When',\n",
       " 'speaking',\n",
       " 'about',\n",
       " 'the',\n",
       " 'employee',\n",
       " 'shortage',\n",
       " 'in',\n",
       " 'May',\n",
       " ',',\n",
       " 'Mr',\n",
       " 'Biden',\n",
       " 'said',\n",
       " 'that',\n",
       " 'the',\n",
       " 'accelerating',\n",
       " 'wage',\n",
       " 'growth',\n",
       " 'in',\n",
       " 'America',\n",
       " 'was',\n",
       " 'a',\n",
       " '“',\n",
       " 'feature',\n",
       " '”',\n",
       " 'and',\n",
       " 'not',\n",
       " 'a',\n",
       " '“',\n",
       " 'bug',\n",
       " '”',\n",
       " 'of',\n",
       " 'the',\n",
       " 'economy',\n",
       " 'as',\n",
       " 'it',\n",
       " 'moves',\n",
       " 'away',\n",
       " 'from',\n",
       " 'the',\n",
       " 'pandemic',\n",
       " '.',\n",
       " '“',\n",
       " 'When',\n",
       " 'it',\n",
       " 'comes',\n",
       " 'to',\n",
       " 'the',\n",
       " 'economy',\n",
       " 'we',\n",
       " '’',\n",
       " 're',\n",
       " 'building',\n",
       " ',',\n",
       " 'rising',\n",
       " 'wages',\n",
       " 'aren',\n",
       " '’',\n",
       " 't',\n",
       " 'a',\n",
       " 'bug',\n",
       " ',',\n",
       " 'they',\n",
       " '’',\n",
       " 're',\n",
       " 'a',\n",
       " 'feature',\n",
       " ',',\n",
       " '”',\n",
       " 'he',\n",
       " 'said',\n",
       " 'at',\n",
       " 'the',\n",
       " 'time',\n",
       " '.',\n",
       " 'Already',\n",
       " 'several',\n",
       " 'chain',\n",
       " 'businesses',\n",
       " 'like',\n",
       " 'Chipotle',\n",
       " 'have',\n",
       " 'announced',\n",
       " 'an',\n",
       " 'increase',\n",
       " 'to',\n",
       " 'their',\n",
       " 'minimum',\n",
       " 'wage',\n",
       " 'in',\n",
       " 'an',\n",
       " 'effort',\n",
       " 'to',\n",
       " 'entice',\n",
       " 'workers',\n",
       " 'back',\n",
       " 'to',\n",
       " 'the',\n",
       " 'company',\n",
       " '.',\n",
       " 'Mr',\n",
       " 'Biden',\n",
       " 'has',\n",
       " 'credited',\n",
       " 'his',\n",
       " 'American',\n",
       " 'Rescue',\n",
       " 'Plan',\n",
       " 'and',\n",
       " 'the',\n",
       " 'Covid-19',\n",
       " 'vaccination',\n",
       " 'campaign',\n",
       " 'as',\n",
       " 'to',\n",
       " 'why',\n",
       " 'the',\n",
       " 'US',\n",
       " 'economy',\n",
       " 'could',\n",
       " 'be',\n",
       " 'jumping',\n",
       " 'back',\n",
       " 'to',\n",
       " 'normal',\n",
       " '.',\n",
       " 'But',\n",
       " 'concern',\n",
       " 'has',\n",
       " 'been',\n",
       " 'raised',\n",
       " 'that',\n",
       " 'increased',\n",
       " 'wages',\n",
       " 'could',\n",
       " 'lead',\n",
       " 'to',\n",
       " 'inflation',\n",
       " '.',\n",
       " 'The',\n",
       " 'Consumer',\n",
       " 'Price',\n",
       " 'Index',\n",
       " ',',\n",
       " 'which',\n",
       " 'is',\n",
       " 'a',\n",
       " 'gauge',\n",
       " 'of',\n",
       " 'broad',\n",
       " 'inflation',\n",
       " 'in',\n",
       " 'the',\n",
       " 'country',\n",
       " ',',\n",
       " 'rose',\n",
       " 'by',\n",
       " '0.6',\n",
       " 'per',\n",
       " 'cent',\n",
       " 'in',\n",
       " 'May',\n",
       " '.',\n",
       " 'This',\n",
       " 'despite',\n",
       " 'estimations',\n",
       " 'landing',\n",
       " 'the',\n",
       " 'gain',\n",
       " 'at',\n",
       " 'about',\n",
       " '0.4',\n",
       " 'per',\n",
       " 'cent',\n",
       " '.',\n",
       " 'The',\n",
       " 'reading',\n",
       " 'was',\n",
       " 'the',\n",
       " 'fastest',\n",
       " 'rate',\n",
       " 'of',\n",
       " 'price',\n",
       " 'growth',\n",
       " 'since',\n",
       " '2009',\n",
       " ',',\n",
       " 'but',\n",
       " 'Mr',\n",
       " 'Biden',\n",
       " 'has',\n",
       " 'assured',\n",
       " 'the',\n",
       " 'public',\n",
       " 'that',\n",
       " 'the',\n",
       " 'numbers',\n",
       " 'being',\n",
       " 'seen',\n",
       " 'now',\n",
       " 'would',\n",
       " 'not',\n",
       " 'likely',\n",
       " 'stay',\n",
       " 'as',\n",
       " 'the',\n",
       " 'economy',\n",
       " 'stabilises',\n",
       " '.']"
      ]
     },
     "execution_count": 124,
     "metadata": {},
     "output_type": "execute_result"
    }
   ],
   "source": [
    "tokenized_text"
   ]
  },
  {
   "cell_type": "code",
   "execution_count": 103,
   "id": "serious-ready",
   "metadata": {},
   "outputs": [
    {
     "name": "stdout",
     "output_type": "stream",
     "text": [
      "<FreqDist with 201 samples and 364 outcomes>\n"
     ]
    }
   ],
   "source": [
    "fdist = FreqDist(tokenized_text)\n",
    "print(fdist)\n"
   ]
  },
  {
   "cell_type": "code",
   "execution_count": 114,
   "id": "classified-basis",
   "metadata": {},
   "outputs": [
    {
     "data": {
      "image/png": "[encoded data removed]",
      "text/plain": [
       "<Figure size 1080x720 with 1 Axes>"
      ]
     },
     "metadata": {
      "needs_background": "light"
     },
     "output_type": "display_data"
    }
   ],
   "source": [
    "# Frequency Distribution Plot\n",
    "import matplotlib.pyplot as plt\n",
    "plt.figure(figsize=(15,10))\n",
    "fdist.plot(30,cumulative=False)\n",
    "plt.show()"
   ]
  },
  {
   "cell_type": "code",
   "execution_count": 107,
   "id": "bearing-instrument",
   "metadata": {},
   "outputs": [
    {
     "data": {
      "text/plain": [
       "[('the', 22), ('to', 14), ('.', 14), ('a', 10), (',', 9)]"
      ]
     },
     "execution_count": 107,
     "metadata": {},
     "output_type": "execute_result"
    }
   ],
   "source": [
    "#top 5 de palabras\n",
    "fdist.most_common(5)"
   ]
  },
  {
   "cell_type": "markdown",
   "id": "demographic-packet",
   "metadata": {},
   "source": [
    "\n",
    "# Exercici 1\n",
    "\n",
    "Treu les stopwords i realitza stemming al teu conjunt de dades."
   ]
  },
  {
   "cell_type": "code",
   "execution_count": 117,
   "id": "urban-tsunami",
   "metadata": {},
   "outputs": [
    {
     "name": "stdout",
     "output_type": "stream",
     "text": [
      "{'hadn', 're', 'under', 'during', 'most', 'shan', 'up', 'this', 'now', 'just', 'its', 'be', 'how', 'didn', 'ain', 'no', \"shan't\", 'of', 'into', 'we', 'there', 's', 'what', 'below', 'with', 'that', \"wasn't\", 'in', 'further', 'yourself', 'i', 'is', 'do', 'any', 'aren', 'was', 'will', 'couldn', \"should've\", \"you'd\", 'so', 'through', 'm', 'had', 'theirs', 'you', 've', \"don't\", \"shouldn't\", 'these', 'a', 'some', 'itself', 'but', 'own', 'to', 'him', 'against', 'd', 'mightn', \"didn't\", 'between', 'they', \"hasn't\", 'has', \"you'll\", 'out', 'he', 'very', 't', 'doing', 'or', 'don', 'too', 'me', 'her', \"hadn't\", \"haven't\", 'ourselves', 'doesn', 'mustn', 'wasn', 'your', 'both', 'herself', 'hers', 'while', 'who', 'haven', 'yours', 'from', 'o', 'once', \"aren't\", 'needn', 'above', 'why', 'such', 'each', 'my', 'where', 'should', 'their', \"she's\", 'at', 'll', 'ours', 'hasn', 'shouldn', 'did', 'if', 'until', 'on', 'here', 'being', 'by', 'she', \"couldn't\", 'having', \"needn't\", 'same', 'few', \"mustn't\", 'because', 'nor', 'not', 'y', 'weren', 'other', 'were', 'can', \"isn't\", 'which', 'whom', 'yourselves', 'and', 'are', \"doesn't\", 'ma', 'his', 'an', 'themselves', \"wouldn't\", 'them', 'only', 'himself', 'than', \"won't\", 'our', 'am', \"that'll\", \"mightn't\", \"it's\", 'as', 'then', 'about', 'have', 'down', 'again', 'all', 'those', 'been', 'it', 'when', 'over', 'for', 'won', \"weren't\", 'myself', 'does', 'after', 'isn', 'the', 'wouldn', 'off', \"you're\", 'more', 'before', \"you've\"}\n"
     ]
    }
   ],
   "source": [
    "from nltk.corpus import stopwords\n",
    "stop_words=set(stopwords.words(\"english\"))\n",
    "print(stop_words)"
   ]
  },
  {
   "cell_type": "code",
   "execution_count": 126,
   "id": "herbal-tuner",
   "metadata": {},
   "outputs": [
    {
     "name": "stdout",
     "output_type": "stream",
     "text": [
      "Tokenized Sentence: ['President', 'Joe', 'Biden', 'has', 'encouraged', 'businesses', 'to', 'fix', 'staffing', 'shortages', 'with', 'a', 'simple', 'solution', ':', 'more', 'money', '.', '“', 'Pay', 'them', 'more', ',', '”', 'Mr', 'Biden', 'said', 'in', 'a', 'stage', 'whisper', 'for', 'dramatic', 'effect', '.', '“', 'This', 'is', 'an', 'employees', '’', 'bargaining', 'chip', 'now.', '”', '“', 'They', '(', 'businesses', ')', 'are', 'going', 'to', 'have', 'to', 'compete', 'and', 'pay', 'people', 'a', 'decent', 'wage', ',', '”', 'the', 'president', 'continued', '.', 'Mr', 'Biden', '’', 's', 'statements', 'came', 'during', 'a', 'press', 'conference', 'the', 'president', 'held', 'at', 'the', 'White', 'House', 'on', 'Thursday', 'to', 'address', 'the', 'agreement', 'Democrat', 'and', 'Republican', 'senators', 'reached', 'regarding', 'his', 'infrastructure', 'plan', '.', 'Mr', 'Biden', 'was', 'asked', 'his', 'thoughts', 'about', 'businesses', 'coming', 'forward', 'stating', 'they', 'were', 'unable', 'to', 'convince', 'their', 'employees', 'to', 'come', 'back', 'after', 'losing', 'them', 'during', 'the', 'coronavirus', 'pandemic', '.', 'Republicans', 'have', 'blamed', 'the', 'federal', 'government', '’', 's', 'unemployment', 'benefits', 'amid', 'the', 'pandemic', 'as', 'a', 'reason', 'why', 'workers', 'were', 'not', 'returning', 'to', 'their', 'initial', 'posts', '.', 'When', 'speaking', 'about', 'the', 'employee', 'shortage', 'in', 'May', ',', 'Mr', 'Biden', 'said', 'that', 'the', 'accelerating', 'wage', 'growth', 'in', 'America', 'was', 'a', '“', 'feature', '”', 'and', 'not', 'a', '“', 'bug', '”', 'of', 'the', 'economy', 'as', 'it', 'moves', 'away', 'from', 'the', 'pandemic', '.', '“', 'When', 'it', 'comes', 'to', 'the', 'economy', 'we', '’', 're', 'building', ',', 'rising', 'wages', 'aren', '’', 't', 'a', 'bug', ',', 'they', '’', 're', 'a', 'feature', ',', '”', 'he', 'said', 'at', 'the', 'time', '.', 'Already', 'several', 'chain', 'businesses', 'like', 'Chipotle', 'have', 'announced', 'an', 'increase', 'to', 'their', 'minimum', 'wage', 'in', 'an', 'effort', 'to', 'entice', 'workers', 'back', 'to', 'the', 'company', '.', 'Mr', 'Biden', 'has', 'credited', 'his', 'American', 'Rescue', 'Plan', 'and', 'the', 'Covid-19', 'vaccination', 'campaign', 'as', 'to', 'why', 'the', 'US', 'economy', 'could', 'be', 'jumping', 'back', 'to', 'normal', '.', 'But', 'concern', 'has', 'been', 'raised', 'that', 'increased', 'wages', 'could', 'lead', 'to', 'inflation', '.', 'The', 'Consumer', 'Price', 'Index', ',', 'which', 'is', 'a', 'gauge', 'of', 'broad', 'inflation', 'in', 'the', 'country', ',', 'rose', 'by', '0.6', 'per', 'cent', 'in', 'May', '.', 'This', 'despite', 'estimations', 'landing', 'the', 'gain', 'at', 'about', '0.4', 'per', 'cent', '.', 'The', 'reading', 'was', 'the', 'fastest', 'rate', 'of', 'price', 'growth', 'since', '2009', ',', 'but', 'Mr', 'Biden', 'has', 'assured', 'the', 'public', 'that', 'the', 'numbers', 'being', 'seen', 'now', 'would', 'not', 'likely', 'stay', 'as', 'the', 'economy', 'stabilises', '.']\n",
      "Filterd Sentence: ['President', 'Joe', 'Biden', 'encouraged', 'businesses', 'fix', 'staffing', 'shortages', 'simple', 'solution', ':', 'money', '.', '“', 'Pay', ',', '”', 'Mr', 'Biden', 'said', 'stage', 'whisper', 'dramatic', 'effect', '.', '“', 'This', 'employees', '’', 'bargaining', 'chip', 'now.', '”', '“', 'They', '(', 'businesses', ')', 'going', 'compete', 'pay', 'people', 'decent', 'wage', ',', '”', 'president', 'continued', '.', 'Mr', 'Biden', '’', 'statements', 'came', 'press', 'conference', 'president', 'held', 'White', 'House', 'Thursday', 'address', 'agreement', 'Democrat', 'Republican', 'senators', 'reached', 'regarding', 'infrastructure', 'plan', '.', 'Mr', 'Biden', 'asked', 'thoughts', 'businesses', 'coming', 'forward', 'stating', 'unable', 'convince', 'employees', 'come', 'back', 'losing', 'coronavirus', 'pandemic', '.', 'Republicans', 'blamed', 'federal', 'government', '’', 'unemployment', 'benefits', 'amid', 'pandemic', 'reason', 'workers', 'returning', 'initial', 'posts', '.', 'When', 'speaking', 'employee', 'shortage', 'May', ',', 'Mr', 'Biden', 'said', 'accelerating', 'wage', 'growth', 'America', '“', 'feature', '”', '“', 'bug', '”', 'economy', 'moves', 'away', 'pandemic', '.', '“', 'When', 'comes', 'economy', '’', 'building', ',', 'rising', 'wages', '’', 'bug', ',', '’', 'feature', ',', '”', 'said', 'time', '.', 'Already', 'several', 'chain', 'businesses', 'like', 'Chipotle', 'announced', 'increase', 'minimum', 'wage', 'effort', 'entice', 'workers', 'back', 'company', '.', 'Mr', 'Biden', 'credited', 'American', 'Rescue', 'Plan', 'Covid-19', 'vaccination', 'campaign', 'US', 'economy', 'could', 'jumping', 'back', 'normal', '.', 'But', 'concern', 'raised', 'increased', 'wages', 'could', 'lead', 'inflation', '.', 'The', 'Consumer', 'Price', 'Index', ',', 'gauge', 'broad', 'inflation', 'country', ',', 'rose', '0.6', 'per', 'cent', 'May', '.', 'This', 'despite', 'estimations', 'landing', 'gain', '0.4', 'per', 'cent', '.', 'The', 'reading', 'fastest', 'rate', 'price', 'growth', 'since', '2009', ',', 'Mr', 'Biden', 'assured', 'public', 'numbers', 'seen', 'would', 'likely', 'stay', 'economy', 'stabilises', '.']\n"
     ]
    }
   ],
   "source": [
    "#Quitamos stopwords\n",
    "stop_words=set(stopwords.words(\"english\"))\n",
    "filtered_sent=[]\n",
    "for w in tokenized_text:\n",
    "    if w not in stop_words:\n",
    "        filtered_sent.append(w)\n",
    "print(\"Tokenized Sentence:\",tokenized_text)\n",
    "print(\"Filterd Sentence:\",filtered_sent)"
   ]
  },
  {
   "cell_type": "code",
   "execution_count": 127,
   "id": "chronic-courtesy",
   "metadata": {},
   "outputs": [
    {
     "name": "stdout",
     "output_type": "stream",
     "text": [
      "Filtered Sentence: ['President', 'Joe', 'Biden', 'encouraged', 'businesses', 'fix', 'staffing', 'shortages', 'simple', 'solution', ':', 'money', '.', '“', 'Pay', ',', '”', 'Mr', 'Biden', 'said', 'stage', 'whisper', 'dramatic', 'effect', '.', '“', 'This', 'employees', '’', 'bargaining', 'chip', 'now.', '”', '“', 'They', '(', 'businesses', ')', 'going', 'compete', 'pay', 'people', 'decent', 'wage', ',', '”', 'president', 'continued', '.', 'Mr', 'Biden', '’', 'statements', 'came', 'press', 'conference', 'president', 'held', 'White', 'House', 'Thursday', 'address', 'agreement', 'Democrat', 'Republican', 'senators', 'reached', 'regarding', 'infrastructure', 'plan', '.', 'Mr', 'Biden', 'asked', 'thoughts', 'businesses', 'coming', 'forward', 'stating', 'unable', 'convince', 'employees', 'come', 'back', 'losing', 'coronavirus', 'pandemic', '.', 'Republicans', 'blamed', 'federal', 'government', '’', 'unemployment', 'benefits', 'amid', 'pandemic', 'reason', 'workers', 'returning', 'initial', 'posts', '.', 'When', 'speaking', 'employee', 'shortage', 'May', ',', 'Mr', 'Biden', 'said', 'accelerating', 'wage', 'growth', 'America', '“', 'feature', '”', '“', 'bug', '”', 'economy', 'moves', 'away', 'pandemic', '.', '“', 'When', 'comes', 'economy', '’', 'building', ',', 'rising', 'wages', '’', 'bug', ',', '’', 'feature', ',', '”', 'said', 'time', '.', 'Already', 'several', 'chain', 'businesses', 'like', 'Chipotle', 'announced', 'increase', 'minimum', 'wage', 'effort', 'entice', 'workers', 'back', 'company', '.', 'Mr', 'Biden', 'credited', 'American', 'Rescue', 'Plan', 'Covid-19', 'vaccination', 'campaign', 'US', 'economy', 'could', 'jumping', 'back', 'normal', '.', 'But', 'concern', 'raised', 'increased', 'wages', 'could', 'lead', 'inflation', '.', 'The', 'Consumer', 'Price', 'Index', ',', 'gauge', 'broad', 'inflation', 'country', ',', 'rose', '0.6', 'per', 'cent', 'May', '.', 'This', 'despite', 'estimations', 'landing', 'gain', '0.4', 'per', 'cent', '.', 'The', 'reading', 'fastest', 'rate', 'price', 'growth', 'since', '2009', ',', 'Mr', 'Biden', 'assured', 'public', 'numbers', 'seen', 'would', 'likely', 'stay', 'economy', 'stabilises', '.']\n",
      "Stemmed Sentence: ['presid', 'joe', 'biden', 'encourag', 'busi', 'fix', 'staf', 'shortag', 'simpl', 'solut', ':', 'money', '.', '“', 'pay', ',', '”', 'Mr', 'biden', 'said', 'stage', 'whisper', 'dramat', 'effect', '.', '“', 'thi', 'employe', '’', 'bargain', 'chip', 'now.', '”', '“', 'they', '(', 'busi', ')', 'go', 'compet', 'pay', 'peopl', 'decent', 'wage', ',', '”', 'presid', 'continu', '.', 'Mr', 'biden', '’', 'statement', 'came', 'press', 'confer', 'presid', 'held', 'white', 'hous', 'thursday', 'address', 'agreement', 'democrat', 'republican', 'senat', 'reach', 'regard', 'infrastructur', 'plan', '.', 'Mr', 'biden', 'ask', 'thought', 'busi', 'come', 'forward', 'state', 'unabl', 'convinc', 'employe', 'come', 'back', 'lose', 'coronaviru', 'pandem', '.', 'republican', 'blame', 'feder', 'govern', '’', 'unemploy', 'benefit', 'amid', 'pandem', 'reason', 'worker', 'return', 'initi', 'post', '.', 'when', 'speak', 'employe', 'shortag', 'may', ',', 'Mr', 'biden', 'said', 'acceler', 'wage', 'growth', 'america', '“', 'featur', '”', '“', 'bug', '”', 'economi', 'move', 'away', 'pandem', '.', '“', 'when', 'come', 'economi', '’', 'build', ',', 'rise', 'wage', '’', 'bug', ',', '’', 'featur', ',', '”', 'said', 'time', '.', 'alreadi', 'sever', 'chain', 'busi', 'like', 'chipotl', 'announc', 'increas', 'minimum', 'wage', 'effort', 'entic', 'worker', 'back', 'compani', '.', 'Mr', 'biden', 'credit', 'american', 'rescu', 'plan', 'covid-19', 'vaccin', 'campaign', 'US', 'economi', 'could', 'jump', 'back', 'normal', '.', 'but', 'concern', 'rais', 'increas', 'wage', 'could', 'lead', 'inflat', '.', 'the', 'consum', 'price', 'index', ',', 'gaug', 'broad', 'inflat', 'countri', ',', 'rose', '0.6', 'per', 'cent', 'may', '.', 'thi', 'despit', 'estim', 'land', 'gain', '0.4', 'per', 'cent', '.', 'the', 'read', 'fastest', 'rate', 'price', 'growth', 'sinc', '2009', ',', 'Mr', 'biden', 'assur', 'public', 'number', 'seen', 'would', 'like', 'stay', 'economi', 'stabilis', '.']\n"
     ]
    }
   ],
   "source": [
    "# Stemming\n",
    "from nltk.stem import PorterStemmer\n",
    "from nltk.tokenize import sent_tokenize, word_tokenize\n",
    "\n",
    "ps = PorterStemmer()\n",
    "\n",
    "stemmed_words=[]\n",
    "for w in filtered_sent:\n",
    "    stemmed_words.append(ps.stem(w))\n",
    "\n",
    "print(\"Filtered Sentence:\",filtered_sent)\n",
    "print(\"Stemmed Sentence:\",stemmed_words)"
   ]
  },
  {
   "cell_type": "code",
   "execution_count": 138,
   "id": "royal-noise",
   "metadata": {},
   "outputs": [
    {
     "data": {
      "image/png": "[encoded data removed]",
      "text/plain": [
       "<Figure size 1080x720 with 1 Axes>"
      ]
     },
     "metadata": {
      "needs_background": "light"
     },
     "output_type": "display_data"
    }
   ],
   "source": [
    "fdist2 = FreqDist(stemmed_words)\n",
    "# Frequency Distribution Plot\n",
    "plt.figure(figsize=(15,10))\n",
    "fdist2.plot(30,cumulative=False)\n",
    "plt.show()"
   ]
  },
  {
   "cell_type": "code",
   "execution_count": 142,
   "id": "frequent-label",
   "metadata": {},
   "outputs": [
    {
     "name": "stdout",
     "output_type": "stream",
     "text": [
      "['presid', 'joe', 'biden', 'encourag', 'busi', 'fix', 'staf', 'shortag', 'simpl', 'solut', 'money', 'pay', 'biden', 'said', 'stage', 'whisper', 'dramat', 'effect', 'thi', 'employe', 'bargain', 'chip', 'now.', 'they', 'busi', 'compet', 'pay', 'peopl', 'decent', 'wage', 'presid', 'continu', 'biden', 'statement', 'came', 'press', 'confer', 'presid', 'held', 'white', 'hous', 'thursday', 'address', 'agreement', 'democrat', 'republican', 'senat', 'reach', 'regard', 'infrastructur', 'plan', 'biden', 'ask', 'thought', 'busi', 'come', 'forward', 'state', 'unabl', 'convinc', 'employe', 'come', 'back', 'lose', 'coronaviru', 'pandem', 'republican', 'blame', 'feder', 'govern', 'unemploy', 'benefit', 'amid', 'pandem', 'reason', 'worker', 'return', 'initi', 'post', 'when', 'speak', 'employe', 'shortag', 'may', 'biden', 'said', 'acceler', 'wage', 'growth', 'america', 'featur', 'bug', 'economi', 'move', 'away', 'pandem', 'when', 'come', 'economi', 'build', 'rise', 'wage', 'bug', 'featur', 'said', 'time', 'alreadi', 'sever', 'chain', 'busi', 'like', 'chipotl', 'announc', 'increas', 'minimum', 'wage', 'effort', 'entic', 'worker', 'back', 'compani', 'biden', 'credit', 'american', 'rescu', 'plan', 'covid-19', 'vaccin', 'campaign', 'economi', 'could', 'jump', 'back', 'normal', 'but', 'concern', 'rais', 'increas', 'wage', 'could', 'lead', 'inflat', 'the', 'consum', 'price', 'index', 'gaug', 'broad', 'inflat', 'countri', 'rose', '0.6', 'per', 'cent', 'may', 'thi', 'despit', 'estim', 'land', 'gain', '0.4', 'per', 'cent', 'the', 'read', 'fastest', 'rate', 'price', 'growth', 'sinc', '2009', 'biden', 'assur', 'public', 'number', 'seen', 'would', 'like', 'stay', 'economi', 'stabilis']\n"
     ]
    }
   ],
   "source": [
    "\n",
    "\n",
    "listfilt = [x for x in stemmed_words if len(x)>2]\n",
    "print(small)"
   ]
  },
  {
   "cell_type": "code",
   "execution_count": 143,
   "id": "precise-cornwall",
   "metadata": {},
   "outputs": [
    {
     "data": {
      "image/png": "[encoded data removed]",
      "text/plain": [
       "<Figure size 1080x720 with 1 Axes>"
      ]
     },
     "metadata": {
      "needs_background": "light"
     },
     "output_type": "display_data"
    }
   ],
   "source": [
    "fdist3 = FreqDist(listfilt)\n",
    "# Frequency Distribution Plot\n",
    "plt.figure(figsize=(15,10))\n",
    "fdist3.plot(30,cumulative=False)\n",
    "plt.show()"
   ]
  },
  {
   "cell_type": "markdown",
   "id": "automatic-tournament",
   "metadata": {},
   "source": [
    "# Exercici 1\n",
    "\n",
    "Realitza sentiment analysis al teu conjunt de dades."
   ]
  },
  {
   "cell_type": "code",
   "execution_count": 128,
   "id": "trained-watson",
   "metadata": {},
   "outputs": [],
   "source": [
    "from nltk.sentiment import SentimentIntensityAnalyzer"
   ]
  },
  {
   "cell_type": "code",
   "execution_count": 135,
   "id": "challenging-jones",
   "metadata": {},
   "outputs": [],
   "source": [
    "sia = SentimentIntensityAnalyzer()"
   ]
  },
  {
   "cell_type": "code",
   "execution_count": 137,
   "id": "enabling-embassy",
   "metadata": {},
   "outputs": [
    {
     "data": {
      "text/plain": [
       "{'neg': 0.03, 'neu': 0.883, 'pos': 0.087, 'compound': 0.9201}"
      ]
     },
     "execution_count": 137,
     "metadata": {},
     "output_type": "execute_result"
    }
   ],
   "source": [
    "sia.polarity_scores(text)"
   ]
  },
  {
   "cell_type": "markdown",
   "id": "psychological-physiology",
   "metadata": {},
   "source": [
    "SentimentIntensityAnalyzer() de VADER toma una cadena y devuelve un diccionario de puntuaciones en cada una de las cuatro categorías:\n",
    "\n",
    "    negativo 0.03\n",
    "    neutral 0.883\n",
    "    positivo 0.087\n",
    "    compuesto (calculado mediante la normalización de las puntuaciones) \n",
    "   Segun el clasificador en el texto prevalcece valorcion neutral\n",
    "   "
   ]
  },
  {
   "cell_type": "code",
   "execution_count": null,
   "id": "adolescent-paradise",
   "metadata": {},
   "outputs": [],
   "source": []
  },
  {
   "cell_type": "code",
   "execution_count": null,
   "id": "continental-vitamin",
   "metadata": {},
   "outputs": [],
   "source": []
  }
 ],
 "metadata": {
  "kernelspec": {
   "display_name": "Python 3",
   "language": "python",
   "name": "python3"
  },
  "language_info": {
   "codemirror_mode": {
    "name": "ipython",
    "version": 3
   },
   "file_extension": ".py",
   "mimetype": "text/x-python",
   "name": "python",
   "nbconvert_exporter": "python",
   "pygments_lexer": "ipython3",
   "version": "3.8.5"
  }
 },
 "nbformat": 4,
 "nbformat_minor": 5
}
